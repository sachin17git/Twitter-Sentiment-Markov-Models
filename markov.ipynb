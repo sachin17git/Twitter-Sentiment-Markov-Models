{
 "cells": [
  {
   "attachments": {},
   "cell_type": "markdown",
   "metadata": {},
   "source": [
    "# Sentiment detection using Markov Models.\n",
    "- First-order markov\n",
    "- Second-order markov"
   ]
  },
  {
   "cell_type": "code",
   "execution_count": 1,
   "metadata": {},
   "outputs": [],
   "source": [
    "import re\n",
    "import string\n",
    "import numpy as np\n",
    "import pandas as pd\n",
    "from nltk.corpus import stopwords\n",
    "from nltk import word_tokenize\n",
    "import matplotlib.pyplot as plt\n",
    "from collections import Counter\n",
    "from nltk.stem import WordNetLemmatizer\n",
    "from nltk.corpus import wordnet\n",
    "from nltk.tag import pos_tag\n",
    "from sklearn.model_selection import train_test_split\n",
    "from sklearn.metrics import confusion_matrix, classification_report, f1_score, precision_score, recall_score, roc_auc_score\n",
    "import warnings\n",
    "import seaborn as sns\n",
    "warnings.filterwarnings('ignore')\n",
    "stopwords = stopwords.words('english')\n",
    "lemmatizer = WordNetLemmatizer()"
   ]
  },
  {
   "attachments": {},
   "cell_type": "markdown",
   "metadata": {},
   "source": [
    "### Text clean up"
   ]
  },
  {
   "cell_type": "code",
   "execution_count": 2,
   "metadata": {},
   "outputs": [
    {
     "data": {
      "text/html": [
       "<div>\n",
       "<style scoped>\n",
       "    .dataframe tbody tr th:only-of-type {\n",
       "        vertical-align: middle;\n",
       "    }\n",
       "\n",
       "    .dataframe tbody tr th {\n",
       "        vertical-align: top;\n",
       "    }\n",
       "\n",
       "    .dataframe thead th {\n",
       "        text-align: right;\n",
       "    }\n",
       "</style>\n",
       "<table border=\"1\" class=\"dataframe\">\n",
       "  <thead>\n",
       "    <tr style=\"text-align: right;\">\n",
       "      <th></th>\n",
       "      <th>OriginalTweet</th>\n",
       "      <th>Sentiment</th>\n",
       "      <th>tweets</th>\n",
       "    </tr>\n",
       "  </thead>\n",
       "  <tbody>\n",
       "    <tr>\n",
       "      <th>0</th>\n",
       "      <td>@MeNyrbie @Phil_Gahan @Chrisitv https://t.co/i...</td>\n",
       "      <td>Neutral</td>\n",
       "      <td>and and</td>\n",
       "    </tr>\n",
       "    <tr>\n",
       "      <th>1</th>\n",
       "      <td>advice Talk to your neighbours family to excha...</td>\n",
       "      <td>Positive</td>\n",
       "      <td>advice talk to your neighbour family to exchan...</td>\n",
       "    </tr>\n",
       "    <tr>\n",
       "      <th>2</th>\n",
       "      <td>Coronavirus Australia: Woolworths to give elde...</td>\n",
       "      <td>Positive</td>\n",
       "      <td>coronavirus australia woolworth to give elderl...</td>\n",
       "    </tr>\n",
       "    <tr>\n",
       "      <th>3</th>\n",
       "      <td>My food stock is not the only one which is emp...</td>\n",
       "      <td>Positive</td>\n",
       "      <td>my food stock be not the only one which be emp...</td>\n",
       "    </tr>\n",
       "    <tr>\n",
       "      <th>4</th>\n",
       "      <td>Me, ready to go at supermarket during the #COV...</td>\n",
       "      <td>Extremely Negative</td>\n",
       "      <td>me ready to go at supermarket during the outbr...</td>\n",
       "    </tr>\n",
       "  </tbody>\n",
       "</table>\n",
       "</div>"
      ],
      "text/plain": [
       "                                       OriginalTweet           Sentiment  \\\n",
       "0  @MeNyrbie @Phil_Gahan @Chrisitv https://t.co/i...             Neutral   \n",
       "1  advice Talk to your neighbours family to excha...            Positive   \n",
       "2  Coronavirus Australia: Woolworths to give elde...            Positive   \n",
       "3  My food stock is not the only one which is emp...            Positive   \n",
       "4  Me, ready to go at supermarket during the #COV...  Extremely Negative   \n",
       "\n",
       "                                              tweets  \n",
       "0                                            and and  \n",
       "1  advice talk to your neighbour family to exchan...  \n",
       "2  coronavirus australia woolworth to give elderl...  \n",
       "3  my food stock be not the only one which be emp...  \n",
       "4  me ready to go at supermarket during the outbr...  "
      ]
     },
     "execution_count": 2,
     "metadata": {},
     "output_type": "execute_result"
    }
   ],
   "source": [
    "def remove_unwanted(x):\n",
    "    new_x = re.sub(r'<[^>]*>', '', x) #remove html tags\n",
    "    new_x = re.sub(r\"http\\S+\", \"\", new_x) #remove http links\n",
    "    new_x = re.sub(r\"@\\S+\", \"\", new_x) #remove twitter user tags\n",
    "    new_x = re.sub(r\"#\\S+\", \"\", new_x) #remove #tags\n",
    "    new_x = new_x.translate(str.maketrans('', '', string.punctuation))\n",
    "    new_x = \" \".join([txt for txt in new_x.lower().split() if len(txt.strip()) > 0])\n",
    "    x_tags = pos_tag(new_x.split()) # get part-of-speech tags for each token in a text.\n",
    "    new_x = \" \".join([lemmatizer.lemmatize(m, pos = detect_pos_tag(tag)) for m, tag in x_tags]) # lemmatize based on the POS tags.\n",
    "    \n",
    "    return new_x\n",
    "\n",
    "def detect_pos_tag(tag):\n",
    "    if tag.startswith('N'):\n",
    "        return wordnet.NOUN\n",
    "    elif tag.startswith('J'):\n",
    "        return wordnet.ADJ\n",
    "    elif tag.startswith('V'):\n",
    "        return wordnet.VERB\n",
    "    elif tag.startswith('R'):\n",
    "        return wordnet.ADV\n",
    "    else:\n",
    "        return wordnet.NOUN\n",
    "\n",
    "data = pd.read_csv(\"../corona tweets/Corona_NLP_train.csv\", encoding='ISO-8859-1')\n",
    "data.drop([\"UserName\",\"ScreenName\", \"Location\", \"TweetAt\"], axis=1, inplace=True)\n",
    "data[\"tweets\"] = data[\"OriginalTweet\"].apply(remove_unwanted)\n",
    "data.head()"
   ]
  },
  {
   "attachments": {},
   "cell_type": "markdown",
   "metadata": {},
   "source": [
    "#### Remove tweets of length less than 1. Let's consider **extremely positive** as positive and **extremely negative** as negative"
   ]
  },
  {
   "cell_type": "code",
   "execution_count": 3,
   "metadata": {},
   "outputs": [
    {
     "data": {
      "text/html": [
       "<div>\n",
       "<style scoped>\n",
       "    .dataframe tbody tr th:only-of-type {\n",
       "        vertical-align: middle;\n",
       "    }\n",
       "\n",
       "    .dataframe tbody tr th {\n",
       "        vertical-align: top;\n",
       "    }\n",
       "\n",
       "    .dataframe thead th {\n",
       "        text-align: right;\n",
       "    }\n",
       "</style>\n",
       "<table border=\"1\" class=\"dataframe\">\n",
       "  <thead>\n",
       "    <tr style=\"text-align: right;\">\n",
       "      <th></th>\n",
       "      <th>OriginalTweet</th>\n",
       "      <th>Sentiment</th>\n",
       "      <th>tweets</th>\n",
       "      <th>labels</th>\n",
       "    </tr>\n",
       "  </thead>\n",
       "  <tbody>\n",
       "    <tr>\n",
       "      <th>1</th>\n",
       "      <td>advice Talk to your neighbours family to excha...</td>\n",
       "      <td>Positive</td>\n",
       "      <td>advice talk to your neighbour family to exchan...</td>\n",
       "      <td>0</td>\n",
       "    </tr>\n",
       "    <tr>\n",
       "      <th>2</th>\n",
       "      <td>Coronavirus Australia: Woolworths to give elde...</td>\n",
       "      <td>Positive</td>\n",
       "      <td>coronavirus australia woolworth to give elderl...</td>\n",
       "      <td>0</td>\n",
       "    </tr>\n",
       "    <tr>\n",
       "      <th>3</th>\n",
       "      <td>My food stock is not the only one which is emp...</td>\n",
       "      <td>Positive</td>\n",
       "      <td>my food stock be not the only one which be emp...</td>\n",
       "      <td>0</td>\n",
       "    </tr>\n",
       "    <tr>\n",
       "      <th>4</th>\n",
       "      <td>Me, ready to go at supermarket during the #COV...</td>\n",
       "      <td>Extremely Negative</td>\n",
       "      <td>me ready to go at supermarket during the outbr...</td>\n",
       "      <td>1</td>\n",
       "    </tr>\n",
       "    <tr>\n",
       "      <th>5</th>\n",
       "      <td>As news of the regionÂs first confirmed COVID...</td>\n",
       "      <td>Positive</td>\n",
       "      <td>a news of the regionâs first confirm covid19 ...</td>\n",
       "      <td>0</td>\n",
       "    </tr>\n",
       "  </tbody>\n",
       "</table>\n",
       "</div>"
      ],
      "text/plain": [
       "                                       OriginalTweet           Sentiment  \\\n",
       "1  advice Talk to your neighbours family to excha...            Positive   \n",
       "2  Coronavirus Australia: Woolworths to give elde...            Positive   \n",
       "3  My food stock is not the only one which is emp...            Positive   \n",
       "4  Me, ready to go at supermarket during the #COV...  Extremely Negative   \n",
       "5  As news of the regionÂs first confirmed COVID...            Positive   \n",
       "\n",
       "                                              tweets  labels  \n",
       "1  advice talk to your neighbour family to exchan...       0  \n",
       "2  coronavirus australia woolworth to give elderl...       0  \n",
       "3  my food stock be not the only one which be emp...       0  \n",
       "4  me ready to go at supermarket during the outbr...       1  \n",
       "5  a news of the regionâs first confirm covid19 ...       0  "
      ]
     },
     "execution_count": 3,
     "metadata": {},
     "output_type": "execute_result"
    }
   ],
   "source": [
    "data = data[data[\"tweets\"].str.len() > 1]\n",
    "\n",
    "codes = {\n",
    "    \"Positive\": 0,\n",
    "    \"Neutral\": 2,\n",
    "    \"Negative\": 1\n",
    "}\n",
    "\n",
    "def label_changer(y):\n",
    "    if y == \"Extremely Positive\":\n",
    "        return codes[\"Positive\"]\n",
    "    elif y == \"Extremely Negative\":\n",
    "        return codes[\"Negative\"]\n",
    "    else:\n",
    "        return codes[y]\n",
    "\n",
    "data[\"labels\"] = data[\"Sentiment\"].apply(label_changer)\n",
    "\n",
    "data = data[data[\"labels\"] < 2]\n",
    "data.head()"
   ]
  },
  {
   "attachments": {},
   "cell_type": "markdown",
   "metadata": {},
   "source": [
    "#### For this model, consider only **positive** and **negative** reviews."
   ]
  },
  {
   "cell_type": "code",
   "execution_count": 4,
   "metadata": {},
   "outputs": [
    {
     "name": "stdout",
     "output_type": "stream",
     "text": [
      "0    18044\n",
      "1    15397\n",
      "Name: labels, dtype: int64\n"
     ]
    },
    {
     "data": {
      "image/png": "[encoded data removed]",
      "text/plain": [
       "<Figure size 700x500 with 1 Axes>"
      ]
     },
     "metadata": {
      "needs_background": "light"
     },
     "output_type": "display_data"
    }
   ],
   "source": [
    "print(data[\"labels\"].value_counts())\n",
    "plt.figure(figsize=(7, 5), dpi = 100)\n",
    "sns.countplot(data['labels']);"
   ]
  },
  {
   "attachments": {},
   "cell_type": "markdown",
   "metadata": {},
   "source": [
    "**Data is not perfectly balanced.**"
   ]
  },
  {
   "cell_type": "code",
   "execution_count": 5,
   "metadata": {},
   "outputs": [],
   "source": [
    "X = data[\"tweets\"].tolist()\n",
    "y = data[\"labels\"].tolist()\n",
    "\n",
    "xtrain, xtest, ytrain, ytest = train_test_split(X, y,\n",
    "                                                stratify = y,\n",
    "                                                test_size = 0.05, \n",
    "                                                random_state = 17)"
   ]
  },
  {
   "attachments": {},
   "cell_type": "markdown",
   "metadata": {},
   "source": [
    "#### Create a mapping between word and id, ***word --> id***"
   ]
  },
  {
   "cell_type": "code",
   "execution_count": 6,
   "metadata": {},
   "outputs": [
    {
     "data": {
      "text/plain": [
       "32173"
      ]
     },
     "execution_count": 6,
     "metadata": {},
     "output_type": "execute_result"
    }
   ],
   "source": [
    "idx = 1\n",
    "word2idx = {\"<unk>\": 0}\n",
    "\n",
    "for text in xtrain:\n",
    "    text = text.replace(\"\\n\", \" \")\n",
    "    tokens = text.split()\n",
    "    for token in tokens:\n",
    "        if token not in word2idx:\n",
    "            word2idx[token] = idx\n",
    "            idx += 1\n",
    "\n",
    "len(word2idx)"
   ]
  },
  {
   "attachments": {},
   "cell_type": "markdown",
   "metadata": {},
   "source": [
    "##### Vocabulary"
   ]
  },
  {
   "cell_type": "code",
   "execution_count": 7,
   "metadata": {},
   "outputs": [
    {
     "data": {
      "text/plain": [
       "32173"
      ]
     },
     "execution_count": 7,
     "metadata": {},
     "output_type": "execute_result"
    }
   ],
   "source": [
    "V = len(word2idx)\n",
    "V"
   ]
  },
  {
   "attachments": {},
   "cell_type": "markdown",
   "metadata": {},
   "source": [
    "#### Create a reverse mapping ***id --> word***"
   ]
  },
  {
   "cell_type": "code",
   "execution_count": 8,
   "metadata": {},
   "outputs": [],
   "source": [
    "idx2word = {j:i for i, j in word2idx.items()}"
   ]
  },
  {
   "attachments": {},
   "cell_type": "markdown",
   "metadata": {},
   "source": [
    "#### Convert all the text tokens into ids using word2idx created above."
   ]
  },
  {
   "cell_type": "code",
   "execution_count": 9,
   "metadata": {},
   "outputs": [],
   "source": [
    "xtrain_int = []\n",
    "xtest_int = []\n",
    "\n",
    "for text in xtrain:\n",
    "    text = text.replace(\"\\n\", \" \")\n",
    "    tokens = text.split()\n",
    "    line_int = [word2idx[token] for token in tokens]\n",
    "    xtrain_int.append(line_int)\n",
    "\n",
    "for text in xtest:\n",
    "    text = text.replace(\"\\n\", \" \")\n",
    "    tokens = text.split()\n",
    "    line_int = [word2idx.get(token, 0) for token in tokens]\n",
    "    xtest_int.append(line_int)"
   ]
  },
  {
   "cell_type": "code",
   "execution_count": 10,
   "metadata": {},
   "outputs": [
    {
     "name": "stdout",
     "output_type": "stream",
     "text": [
      "Text converted to id --->\n",
      "\n",
      " [22, 23, 24, 25, 26, 27, 28, 29, 30, 31, 32, 22, 25, 33, 34, 35, 36, 37, 38, 39, 32, 40, 22, 41, 6, 42, 43, 5, 35, 44, 45, 5, 46, 24, 23, 47, 22, 48, 49] \n",
      "\n",
      "Text --->\n",
      "\n",
      " we know you re worried about bill during covid 19 and we re work with our insurer on relief option and discount we ll be reach out to our client soon to let you know how we can help\n"
     ]
    }
   ],
   "source": [
    "print(\"Text converted to id --->\\n\\n\", xtrain_int[1], \"\\n\\nText --->\\n\\n\", xtrain[1])"
   ]
  },
  {
   "attachments": {},
   "cell_type": "markdown",
   "metadata": {},
   "source": [
    "## First-order Markov model\n",
    "#### We are creating seperate probabilistic model for each class.\n",
    "- initial_pos and initial_neg are the initial state distributions for positive and negative, which relates to the first word in a sentence.\n",
    "- first_order_pos (positive) and first_order_neg (negative) are the transition state matrix for each class, which contains log probabilities of transition between words."
   ]
  },
  {
   "cell_type": "code",
   "execution_count": 11,
   "metadata": {},
   "outputs": [],
   "source": [
    "initial_pos = {}\n",
    "first_order_pos = {}\n",
    "\n",
    "initial_neg = {}\n",
    "first_order_neg = {}"
   ]
  },
  {
   "attachments": {},
   "cell_type": "markdown",
   "metadata": {},
   "source": [
    "#### Compute counts/frequency for initial state and transition state matrix."
   ]
  },
  {
   "cell_type": "code",
   "execution_count": 12,
   "metadata": {},
   "outputs": [],
   "source": [
    "def compute_counts(txt_to_int, initials, transitions):\n",
    "    for tokens in txt_to_int:\n",
    "        last_idx = None\n",
    "        for idx in tokens:\n",
    "            if last_idx is None:\n",
    "                initials[idx] = initials.get(idx, 1) + 1\n",
    "            else:\n",
    "                if last_idx not in transitions:\n",
    "                    transitions[last_idx] = {idx : 2}\n",
    "                else:\n",
    "                    transitions[last_idx][idx] = transitions[last_idx].get(idx, 1) + 1\n",
    "            \n",
    "            last_idx = idx\n",
    "    \n",
    "    return initials, transitions\n",
    "\n",
    "initial_pos, first_order_pos = compute_counts([x for x, y in zip(xtrain_int, ytrain) if y == 0], initial_pos, first_order_pos)\n",
    "initial_neg, first_order_neg = compute_counts([x for x, y in zip(xtrain_int, ytrain) if y == 1], initial_neg, first_order_neg)"
   ]
  },
  {
   "attachments": {},
   "cell_type": "markdown",
   "metadata": {},
   "source": [
    "#### Compute word frequency for the entire vocabulary."
   ]
  },
  {
   "cell_type": "code",
   "execution_count": 13,
   "metadata": {},
   "outputs": [],
   "source": [
    "def frequency(xx):\n",
    "    word_freq = {}\n",
    "    for text in xx:\n",
    "        text = text.replace(\"\\n\", \" \")\n",
    "        tokens = text.split()\n",
    "        for token in tokens:\n",
    "            if token not in word_freq:\n",
    "                word_freq[token] = 1\n",
    "            else:\n",
    "                word_freq[token] += 1\n",
    "    \n",
    "    return word_freq\n",
    "\n",
    "word_freq_pos = frequency([x for x, y in zip(xtrain, ytrain) if y == 0])\n",
    "word_freq_neg = frequency([x for x, y in zip(xtrain, ytrain) if y == 1])\n",
    "\n",
    "word_frequency = dict(Counter(word_freq_pos) + Counter(word_freq_neg))"
   ]
  },
  {
   "attachments": {},
   "cell_type": "markdown",
   "metadata": {},
   "source": [
    "#### Function that calculates log probabilities."
   ]
  },
  {
   "cell_type": "code",
   "execution_count": 14,
   "metadata": {},
   "outputs": [],
   "source": [
    "def transition_logs(d, k):\n",
    "    new_d = {}\n",
    "    word = idx2word[k]\n",
    "    for nk, v in d.items():\n",
    "        new_d[nk] = np.log((v + 1) / word_frequency[word])\n",
    "    \n",
    "    return new_d"
   ]
  },
  {
   "cell_type": "code",
   "execution_count": 15,
   "metadata": {},
   "outputs": [],
   "source": [
    "ipos_sum = sum(initial_pos.values())\n",
    "ineg_sum = sum(initial_neg.values())\n",
    "\n",
    "for key, val in initial_pos.items():\n",
    "    initial_pos[key] = np.log(val / ipos_sum)\n",
    "\n",
    "for key, val in initial_neg.items():\n",
    "    initial_neg[key] = np.log(val / ineg_sum)"
   ]
  },
  {
   "cell_type": "code",
   "execution_count": 16,
   "metadata": {},
   "outputs": [],
   "source": [
    "for key, val in first_order_pos.items():\n",
    "    first_order_pos[key] = transition_logs(val, key)\n",
    "\n",
    "for key, val in first_order_neg.items():\n",
    "    first_order_neg[key] = transition_logs(val, key)"
   ]
  },
  {
   "attachments": {},
   "cell_type": "markdown",
   "metadata": {},
   "source": [
    "#### Calculate prior log probabilities for each class (positive and negative)."
   ]
  },
  {
   "cell_type": "code",
   "execution_count": 17,
   "metadata": {},
   "outputs": [],
   "source": [
    "count0 = sum(y==0 for y in ytrain)\n",
    "count1 = sum(y==1 for y in ytrain)\n",
    "\n",
    "total = len(ytrain)\n",
    "\n",
    "p0 = count0 / total\n",
    "p1 = count1 / total\n",
    "\n",
    "logp0 = np.log(p0)\n",
    "logp1 = np.log(p1)"
   ]
  },
  {
   "cell_type": "code",
   "execution_count": 18,
   "metadata": {},
   "outputs": [
    {
     "data": {
      "text/plain": [
       "(17141, 14627)"
      ]
     },
     "execution_count": 18,
     "metadata": {},
     "output_type": "execute_result"
    }
   ],
   "source": [
    "count0, count1"
   ]
  },
  {
   "cell_type": "code",
   "execution_count": 19,
   "metadata": {},
   "outputs": [
    {
     "data": {
      "text/plain": [
       "(-0.6169862393040303, -0.7755903579239991)"
      ]
     },
     "execution_count": 19,
     "metadata": {},
     "output_type": "execute_result"
    }
   ],
   "source": [
    "logp0, logp1"
   ]
  },
  {
   "attachments": {},
   "cell_type": "markdown",
   "metadata": {},
   "source": [
    "#### Define a class which computes log likelihood & also design predict function."
   ]
  },
  {
   "cell_type": "code",
   "execution_count": 20,
   "metadata": {},
   "outputs": [],
   "source": [
    "class Classifier:\n",
    "    def __init__(self, logAs, logpis, logpriors, word_freq):\n",
    "        self.logAs = logAs\n",
    "        self.logpis = logpis\n",
    "        self.logpriors = logpriors\n",
    "        self.word_freq = word_freq\n",
    "        self.K = len(logpriors)\n",
    "    \n",
    "    def compute_log_likelihood(self, input_, class_):\n",
    "        logA = self.logAs[class_]\n",
    "        logpi = self.logpis[class_]\n",
    "        \n",
    "        last_idx = None\n",
    "        logprob = 0\n",
    "\n",
    "        for idx in input_:\n",
    "            if last_idx is None:\n",
    "                if idx in logpi:\n",
    "                    logprob += logpi[idx]\n",
    "            else:\n",
    "                if last_idx in logA:\n",
    "                    if idx in logA[last_idx]:\n",
    "                        logprob += logA[last_idx][idx]\n",
    "                    else:\n",
    "                        word = idx2word[last_idx]\n",
    "                        freq = self.word_freq[word]\n",
    "                        logprob += np.log(1 / freq)\n",
    "        \n",
    "            last_idx = idx\n",
    "        \n",
    "        return logprob\n",
    "\n",
    "    def predict(self, inputs):\n",
    "        predictions = np.zeros(len(inputs))\n",
    "        for e, input_ in enumerate(inputs):\n",
    "            posteriors = [self.compute_log_likelihood(input_, c) + self.logpriors[c] for c in range(self.K)]\n",
    "            prediction = np.argmax(posteriors)\n",
    "            predictions[e] = prediction\n",
    "        \n",
    "        return predictions"
   ]
  },
  {
   "cell_type": "code",
   "execution_count": 21,
   "metadata": {},
   "outputs": [],
   "source": [
    "clf = Classifier([first_order_pos, first_order_neg],\n",
    "                 [initial_pos, initial_neg],\n",
    "                 [logp0, logp1],\n",
    "                  word_frequency)\n",
    "ptrain = clf.predict(xtrain_int)\n",
    "ptest = clf.predict(xtest_int)"
   ]
  },
  {
   "attachments": {},
   "cell_type": "markdown",
   "metadata": {},
   "source": [
    "#### Classification report for training."
   ]
  },
  {
   "cell_type": "code",
   "execution_count": 22,
   "metadata": {},
   "outputs": [
    {
     "name": "stdout",
     "output_type": "stream",
     "text": [
      "              precision    recall  f1-score   support\n",
      "\n",
      "           0       0.94      0.97      0.96     17141\n",
      "           1       0.97      0.93      0.95     14627\n",
      "\n",
      "    accuracy                           0.95     31768\n",
      "   macro avg       0.95      0.95      0.95     31768\n",
      "weighted avg       0.95      0.95      0.95     31768\n",
      "\n"
     ]
    }
   ],
   "source": [
    "print(classification_report(ytrain, ptrain))"
   ]
  },
  {
   "cell_type": "code",
   "execution_count": 23,
   "metadata": {},
   "outputs": [
    {
     "data": {
      "text/plain": [
       "array([[16659,   482],\n",
       "       [ 1065, 13562]], dtype=int64)"
      ]
     },
     "execution_count": 23,
     "metadata": {},
     "output_type": "execute_result"
    }
   ],
   "source": [
    "confusion_matrix(ytrain, ptrain)"
   ]
  },
  {
   "attachments": {},
   "cell_type": "markdown",
   "metadata": {},
   "source": [
    "#### Classification report for validation."
   ]
  },
  {
   "cell_type": "code",
   "execution_count": 24,
   "metadata": {},
   "outputs": [
    {
     "name": "stdout",
     "output_type": "stream",
     "text": [
      "              precision    recall  f1-score   support\n",
      "\n",
      "           0       0.69      0.89      0.78       903\n",
      "           1       0.81      0.52      0.63       770\n",
      "\n",
      "    accuracy                           0.72      1673\n",
      "   macro avg       0.75      0.71      0.71      1673\n",
      "weighted avg       0.74      0.72      0.71      1673\n",
      "\n"
     ]
    }
   ],
   "source": [
    "print(classification_report(ytest, ptest))"
   ]
  },
  {
   "cell_type": "code",
   "execution_count": 25,
   "metadata": {},
   "outputs": [
    {
     "data": {
      "text/plain": [
       "array([[808,  95],\n",
       "       [368, 402]], dtype=int64)"
      ]
     },
     "execution_count": 25,
     "metadata": {},
     "output_type": "execute_result"
    }
   ],
   "source": [
    "confusion_matrix(ytest, ptest)"
   ]
  },
  {
   "cell_type": "code",
   "execution_count": 26,
   "metadata": {},
   "outputs": [
    {
     "name": "stdout",
     "output_type": "stream",
     "text": [
      "Training metrics --->\n",
      "\n",
      "F1-score - 0.946\n",
      "Precision - 0.966\n",
      "Recall - 0.927\n",
      "Auc - 0.950\n"
     ]
    }
   ],
   "source": [
    "print(\"Training metrics --->\\n\")\n",
    "\n",
    "print(f\"F1-score - {f1_score(ytrain, ptrain):.3f}\")\n",
    "print(f\"Precision - {precision_score(ytrain, ptrain):.3f}\")\n",
    "print(f\"Recall - {recall_score(ytrain, ptrain):.3f}\")\n",
    "print(f\"Auc - {roc_auc_score(ytrain, ptrain):.3f}\")"
   ]
  },
  {
   "cell_type": "code",
   "execution_count": 27,
   "metadata": {},
   "outputs": [
    {
     "name": "stdout",
     "output_type": "stream",
     "text": [
      "Validation metrics --->\n",
      "\n",
      "F1-score - 0.635\n",
      "Precision - 0.809\n",
      "Recall - 0.522\n",
      "Auc - 0.708\n"
     ]
    }
   ],
   "source": [
    "print(\"Validation metrics --->\\n\")\n",
    "print(f\"F1-score - {f1_score(ytest, ptest):.3f}\")\n",
    "print(f\"Precision - {precision_score(ytest, ptest):.3f}\")\n",
    "print(f\"Recall - {recall_score(ytest, ptest):.3f}\")\n",
    "print(f\"Auc - {roc_auc_score(ytest, ptest):.3f}\")"
   ]
  },
  {
   "attachments": {},
   "cell_type": "markdown",
   "metadata": {},
   "source": [
    "## Second-order Markov model\n",
    "- Here we have extra components second_order_pos and second_order_neg, they keep track upto 2 previous words for a current word."
   ]
  },
  {
   "cell_type": "code",
   "execution_count": 28,
   "metadata": {},
   "outputs": [],
   "source": [
    "initial_pos = {}\n",
    "first_order_pos = {}\n",
    "second_order_pos = {}\n",
    "\n",
    "initial_neg = {}\n",
    "first_order_neg = {}\n",
    "second_order_neg = {}"
   ]
  },
  {
   "cell_type": "code",
   "execution_count": 29,
   "metadata": {},
   "outputs": [],
   "source": [
    "def compute_counts(txt_to_int, initials, transition_f, transition_s):\n",
    "    for tokens in txt_to_int:\n",
    "        for e, idx in enumerate(tokens):\n",
    "            if e == 0:\n",
    "                initials[idx] = initials.get(idx, 1) + 1\n",
    "            elif e == 1:\n",
    "                last_idx = tokens[e - 1]\n",
    "                if last_idx not in transition_f:\n",
    "                    transition_f[last_idx] = {idx : 2}\n",
    "                else:\n",
    "                    transition_f[last_idx][idx] = transition_f[last_idx].get(idx, 1) + 1\n",
    "            \n",
    "            elif e > 1:\n",
    "                prev_token2 = tokens[e - 2]\n",
    "                prev_token1 = tokens[e - 1]\n",
    "                last_idx = (prev_token2, prev_token1)\n",
    "                if last_idx not in transition_s:\n",
    "                    transition_s[last_idx] = {idx: 2}\n",
    "                else:\n",
    "                    transition_s[last_idx][idx] = transition_s[last_idx].get(idx, 1) + 1\n",
    "    \n",
    "    return initials, transition_f, transition_s\n",
    "\n",
    "initial_pos, first_order_pos, second_order_pos = compute_counts([x for x, y in zip(xtrain_int, ytrain) if y == 0],\n",
    "                                              initial_pos,\n",
    "                                              first_order_pos,\n",
    "                                              second_order_pos)\n",
    "\n",
    "initial_neg, first_order_neg, second_order_neg = compute_counts([x for x, y in zip(xtrain_int, ytrain) if y == 1],\n",
    "                                               initial_neg, \n",
    "                                               first_order_neg,\n",
    "                                               second_order_neg)"
   ]
  },
  {
   "cell_type": "code",
   "execution_count": 30,
   "metadata": {},
   "outputs": [],
   "source": [
    "def combo_frequency(d):\n",
    "    freq = {}\n",
    "    for key, val in d.items():\n",
    "        freq[key] = sum(val.values())\n",
    "    \n",
    "    return freq\n",
    "\n",
    "combo_freq_pos = combo_frequency(second_order_pos)\n",
    "combo_freq_neg = combo_frequency(second_order_neg)\n",
    "\n",
    "combo_freq = dict(Counter(combo_freq_pos) + Counter(combo_freq_neg))"
   ]
  },
  {
   "cell_type": "code",
   "execution_count": 31,
   "metadata": {},
   "outputs": [],
   "source": [
    "def second_transition_logs(d, k):\n",
    "    new_d = {}\n",
    "    for nk, v in d.items():\n",
    "        new_d[nk] = np.log((v + 1) / combo_freq[k])\n",
    "    \n",
    "    return new_d"
   ]
  },
  {
   "cell_type": "code",
   "execution_count": 32,
   "metadata": {},
   "outputs": [],
   "source": [
    "ipos_sum = sum(initial_pos.values())\n",
    "ineg_sum = sum(initial_neg.values())\n",
    "\n",
    "for key, val in initial_pos.items():\n",
    "    initial_pos[key] = np.log(val / ipos_sum)\n",
    "\n",
    "for key, val in initial_neg.items():\n",
    "    initial_neg[key] = np.log(val / ineg_sum)\n",
    "\n",
    "for key, val in first_order_pos.items():\n",
    "    first_order_pos[key] = transition_logs(val, key)\n",
    "\n",
    "for key, val in first_order_neg.items():\n",
    "    first_order_neg[key] = transition_logs(val, key)\n",
    "\n",
    "for key, val in second_order_pos.items():\n",
    "    second_order_pos[key] = second_transition_logs(val, key)\n",
    "\n",
    "for key, val in second_order_neg.items():\n",
    "    second_order_neg[key] = second_transition_logs(val, key)"
   ]
  },
  {
   "cell_type": "code",
   "execution_count": 33,
   "metadata": {},
   "outputs": [],
   "source": [
    "count0 = sum(y==0 for y in ytrain)\n",
    "count1 = sum(y==1 for y in ytrain)\n",
    "\n",
    "total = len(ytrain)\n",
    "\n",
    "p0 = count0 / total\n",
    "p1 = count1 / total\n",
    "\n",
    "logp0 = np.log(p0)\n",
    "logp1 = np.log(p1)"
   ]
  },
  {
   "cell_type": "code",
   "execution_count": 34,
   "metadata": {},
   "outputs": [
    {
     "data": {
      "text/plain": [
       "(-0.6169862393040303, -0.7755903579239991)"
      ]
     },
     "execution_count": 34,
     "metadata": {},
     "output_type": "execute_result"
    }
   ],
   "source": [
    "logp0, logp1"
   ]
  },
  {
   "cell_type": "code",
   "execution_count": 35,
   "metadata": {},
   "outputs": [],
   "source": [
    "class Classifier:\n",
    "    def __init__(self, logSs, logAs, logpis, logpriors, word_f, combo_f):\n",
    "        self.logSs = logSs\n",
    "        self.logAs = logAs\n",
    "        self.logpis = logpis\n",
    "        self.logpriors = logpriors\n",
    "        self.word_freq = word_f\n",
    "        self.combo_freq = combo_f\n",
    "        self.K = len(logpriors)\n",
    "    \n",
    "    def compute_log_likelihood(self, input_, class_):\n",
    "        logS = self.logSs[class_]\n",
    "        logA = self.logAs[class_]\n",
    "        logpi = self.logpis[class_]\n",
    "        \n",
    "        logprob = 0\n",
    "\n",
    "        for e, idx in enumerate(input_):\n",
    "            if e == 0:\n",
    "                if idx in logpi:\n",
    "                    logprob += logpi[idx]\n",
    "            elif e == 1:\n",
    "                last_idx = input_[e - 1]\n",
    "                if last_idx in logA:\n",
    "                    if idx in logA[last_idx]:\n",
    "                        logprob += logA[last_idx][idx]\n",
    "                    else:\n",
    "                        word = idx2word[last_idx]\n",
    "                        freq = self.word_freq[word]\n",
    "                        logprob += np.log(1/freq)\n",
    "        \n",
    "            elif e > 1:\n",
    "                prev_token2 = input_[e - 2]\n",
    "                prev_token1 = input_[e - 1]\n",
    "                last_idx = (prev_token2, prev_token1)\n",
    "                if last_idx in logS:\n",
    "                    if idx in logS[last_idx]:\n",
    "                        logprob += logS[last_idx][idx]\n",
    "                    else:\n",
    "                        freq = self.combo_freq[last_idx]\n",
    "                        logprob += np.log(1 / freq)\n",
    "        \n",
    "        return logprob\n",
    "\n",
    "    def predict(self, inputs):\n",
    "        predictions = np.zeros(len(inputs))\n",
    "        for e, input_ in enumerate(inputs):\n",
    "            posteriors = [self.compute_log_likelihood(input_, c) + self.logpriors[c] for c in range(self.K)]\n",
    "            prediction = np.argmax(posteriors)\n",
    "            predictions[e] = prediction\n",
    "        \n",
    "        return predictions"
   ]
  },
  {
   "cell_type": "code",
   "execution_count": 36,
   "metadata": {},
   "outputs": [],
   "source": [
    "clf = Classifier([second_order_pos, second_order_neg],\n",
    "                 [first_order_pos, first_order_neg],\n",
    "                 [initial_pos, initial_neg],\n",
    "                 [logp0, logp1],\n",
    "                 word_frequency,\n",
    "                 combo_freq)\n",
    "                 \n",
    "ptrain = clf.predict(xtrain_int)\n",
    "ptest = clf.predict(xtest_int)"
   ]
  },
  {
   "attachments": {},
   "cell_type": "markdown",
   "metadata": {},
   "source": [
    "#### Classification report for training."
   ]
  },
  {
   "cell_type": "code",
   "execution_count": 37,
   "metadata": {},
   "outputs": [
    {
     "name": "stdout",
     "output_type": "stream",
     "text": [
      "              precision    recall  f1-score   support\n",
      "\n",
      "           0       0.96      0.96      0.96     17141\n",
      "           1       0.95      0.95      0.95     14627\n",
      "\n",
      "    accuracy                           0.96     31768\n",
      "   macro avg       0.96      0.96      0.96     31768\n",
      "weighted avg       0.96      0.96      0.96     31768\n",
      "\n"
     ]
    }
   ],
   "source": [
    "print(classification_report(ytrain, ptrain))"
   ]
  },
  {
   "cell_type": "code",
   "execution_count": 38,
   "metadata": {},
   "outputs": [
    {
     "data": {
      "text/plain": [
       "array([[16431,   710],\n",
       "       [  704, 13923]], dtype=int64)"
      ]
     },
     "execution_count": 38,
     "metadata": {},
     "output_type": "execute_result"
    }
   ],
   "source": [
    "confusion_matrix(ytrain, ptrain)"
   ]
  },
  {
   "attachments": {},
   "cell_type": "markdown",
   "metadata": {},
   "source": [
    "#### Classification report for validation."
   ]
  },
  {
   "cell_type": "code",
   "execution_count": 39,
   "metadata": {},
   "outputs": [
    {
     "name": "stdout",
     "output_type": "stream",
     "text": [
      "              precision    recall  f1-score   support\n",
      "\n",
      "           0       0.64      0.70      0.67       903\n",
      "           1       0.60      0.53      0.56       770\n",
      "\n",
      "    accuracy                           0.62      1673\n",
      "   macro avg       0.62      0.61      0.61      1673\n",
      "weighted avg       0.62      0.62      0.62      1673\n",
      "\n"
     ]
    }
   ],
   "source": [
    "print(classification_report(ytest, ptest))"
   ]
  },
  {
   "cell_type": "code",
   "execution_count": 40,
   "metadata": {},
   "outputs": [
    {
     "data": {
      "text/plain": [
       "array([[632, 271],\n",
       "       [362, 408]], dtype=int64)"
      ]
     },
     "execution_count": 40,
     "metadata": {},
     "output_type": "execute_result"
    }
   ],
   "source": [
    "confusion_matrix(ytest, ptest)"
   ]
  },
  {
   "cell_type": "code",
   "execution_count": 41,
   "metadata": {},
   "outputs": [
    {
     "name": "stdout",
     "output_type": "stream",
     "text": [
      "Training metrics --->\n",
      "\n",
      "F1-score - 0.952\n",
      "Precision - 0.951\n",
      "Recall - 0.952\n",
      "Auc - 0.955\n"
     ]
    }
   ],
   "source": [
    "print(\"Training metrics --->\\n\")\n",
    "\n",
    "print(f\"F1-score - {f1_score(ytrain, ptrain):.3f}\")\n",
    "print(f\"Precision - {precision_score(ytrain, ptrain):.3f}\")\n",
    "print(f\"Recall - {recall_score(ytrain, ptrain):.3f}\")\n",
    "print(f\"Auc - {roc_auc_score(ytrain, ptrain):.3f}\")"
   ]
  },
  {
   "cell_type": "code",
   "execution_count": 42,
   "metadata": {},
   "outputs": [
    {
     "name": "stdout",
     "output_type": "stream",
     "text": [
      "Validation metrics --->\n",
      "\n",
      "F1-score - 0.563\n",
      "Precision - 0.601\n",
      "Recall - 0.530\n",
      "Auc - 0.615\n"
     ]
    }
   ],
   "source": [
    "print(\"Validation metrics --->\\n\")\n",
    "print(f\"F1-score - {f1_score(ytest, ptest):.3f}\")\n",
    "print(f\"Precision - {precision_score(ytest, ptest):.3f}\")\n",
    "print(f\"Recall - {recall_score(ytest, ptest):.3f}\")\n",
    "print(f\"Auc - {roc_auc_score(ytest, ptest):.3f}\")"
   ]
  },
  {
   "cell_type": "code",
   "execution_count": null,
   "metadata": {},
   "outputs": [],
   "source": []
  }
 ],
 "metadata": {
  "kernelspec": {
   "display_name": "UB-DL",
   "language": "python",
   "name": "ub_dl"
  },
  "language_info": {
   "codemirror_mode": {
    "name": "ipython",
    "version": 3
   },
   "file_extension": ".py",
   "mimetype": "text/x-python",
   "name": "python",
   "nbconvert_exporter": "python",
   "pygments_lexer": "ipython3",
   "version": "3.9.7"
  },
  "orig_nbformat": 4,
  "vscode": {
   "interpreter": {
    "hash": "d1b09df8cc58716224621aaa1ca07c20ebfa5557089cdfdb3e9ac04078a58d2f"
   }
  }
 },
 "nbformat": 4,
 "nbformat_minor": 2
}
